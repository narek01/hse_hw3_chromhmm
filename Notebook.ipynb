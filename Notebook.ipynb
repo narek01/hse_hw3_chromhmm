{
  "nbformat": 4,
  "nbformat_minor": 0,
  "metadata": {
    "colab": {
      "name": "Копия блокнота \"DZ3.ipynb\"",
      "provenance": [],
      "collapsed_sections": []
    },
    "kernelspec": {
      "name": "python3",
      "display_name": "Python 3"
    },
    "language_info": {
      "name": "python"
    }
  },
  "cells": [
    {
      "cell_type": "code",
      "source": [
        "import subprocess"
      ],
      "metadata": {
        "id": "yDW77KQLCGNn"
      },
      "execution_count": 16,
      "outputs": []
    },
    {
      "cell_type": "markdown",
      "source": [
        "# Устанавливаем java и ChromHmm"
      ],
      "metadata": {
        "id": "vRciyzvPEDLD"
      }
    },
    {
      "cell_type": "code",
      "source": [
        "!curl -O https://raw.githubusercontent.com/deepjavalibrary/d2l-java/master/tools/fix-colab-gpu.sh && bash fix-colab-gpu.sh"
      ],
      "metadata": {
        "id": "1O3GJ3Gys7Tm"
      },
      "execution_count": null,
      "outputs": []
    },
    {
      "cell_type": "code",
      "execution_count": null,
      "metadata": {
        "id": "NxS1Mv5WquOV"
      },
      "outputs": [],
      "source": [
        "!curl -O https://raw.githubusercontent.com/deepjavalibrary/d2l-java/master/tools/colab_build.sh && bash colab_build.sh"
      ]
    },
    {
      "cell_type": "code",
      "source": [
        "!java --list-modules | grep \"jdk.jshell\"\n"
      ],
      "metadata": {
        "id": "_NrPS924rQFX"
      },
      "execution_count": null,
      "outputs": []
    },
    {
      "cell_type": "code",
      "source": [
        "!wget http://compbio.mit.edu/ChromHMM/ChromHMM.zip"
      ],
      "metadata": {
        "id": "zCdYYvCJrpRt"
      },
      "execution_count": null,
      "outputs": []
    },
    {
      "cell_type": "code",
      "source": [
        "!unzip /content/ChromHMM.zip"
      ],
      "metadata": {
        "id": "gF4uI2bvvEN2"
      },
      "execution_count": null,
      "outputs": []
    },
    {
      "cell_type": "markdown",
      "source": [
        "## Скачиваем файлы"
      ],
      "metadata": {
        "id": "k80uGrS5quq1"
      }
    },
    {
      "cell_type": "code",
      "source": [
        "paths = [\n",
        "         \"http://hgdownload.cse.ucsc.edu/goldenPath/hg19/encodeDCC/wgEncodeBroadHistone/wgEncodeBroadHistoneHelas3ControlStdAlnRep1.bam\",\n",
        "         \"http://hgdownload.cse.ucsc.edu/goldenPath/hg19/encodeDCC/wgEncodeBroadHistone/wgEncodeBroadHistoneHelas3H3k27acStdAlnRep1.bam\",\n",
        "         \"http://hgdownload.cse.ucsc.edu/goldenPath/hg19/encodeDCC/wgEncodeBroadHistone/wgEncodeBroadHistoneHelas3H3k27me3StdAlnRep1.bam\",\n",
        "         \"http://hgdownload.cse.ucsc.edu/goldenPath/hg19/encodeDCC/wgEncodeBroadHistone/wgEncodeBroadHistoneHelas3H3k36me3StdAlnRep1.bam\",\n",
        "         \"http://hgdownload.cse.ucsc.edu/goldenPath/hg19/encodeDCC/wgEncodeBroadHistone/wgEncodeBroadHistoneHelas3H3k04me1StdAlnRep1.bam\",\n",
        "         \"http://hgdownload.cse.ucsc.edu/goldenPath/hg19/encodeDCC/wgEncodeBroadHistone/wgEncodeBroadHistoneHelas3H3k4me2StdAlnRep1.bam\",\n",
        "         \"http://hgdownload.cse.ucsc.edu/goldenPath/hg19/encodeDCC/wgEncodeBroadHistone/wgEncodeBroadHistoneHelas3H3k4me3StdAlnRep1.bam\",\n",
        "         \"http://hgdownload.cse.ucsc.edu/goldenPath/hg19/encodeDCC/wgEncodeBroadHistone/wgEncodeBroadHistoneHelas3H3k79me2StdAlnRep1.bam\",\n",
        "         \"http://hgdownload.cse.ucsc.edu/goldenPath/hg19/encodeDCC/wgEncodeBroadHistone/wgEncodeBroadHistoneHelas3H3k9acStdAlnRep1.bam\",\n",
        "         \"http://hgdownload.cse.ucsc.edu/goldenPath/hg19/encodeDCC/wgEncodeBroadHistone/wgEncodeBroadHistoneHelas3H3k09me3AlnRep1.bam\",\n",
        "         \"http://hgdownload.cse.ucsc.edu/goldenPath/hg19/encodeDCC/wgEncodeBroadHistone/wgEncodeBroadHistoneHelas3H4k20me1StdAlnRep1.bam\",\n",
        "         \"http://hgdownload.cse.ucsc.edu/goldenPath/hg19/encodeDCC/wgEncodeBroadHistone/wgEncodeBroadHistoneHelas3H2azAlnRep1.bam\"\n",
        "]\n",
        "\n",
        "names = []\n",
        "for path in paths:\n",
        "  if 'Std' in path:\n",
        "    names.append(path[path.find(\"Helas3\")+6:path.find(\"Std\")] + \".bam\")\n",
        "  else:\n",
        "    names.append(path[path.find(\"Helas3\")+6:path.find(\"Aln\")] + \".bam\")\n",
        "names"
      ],
      "metadata": {
        "id": "xZN3NTcLakg-",
        "colab": {
          "base_uri": "https://localhost:8080/"
        },
        "outputId": "84a4396c-5b24-4d1a-c33b-bf4bf6d8d955"
      },
      "execution_count": 11,
      "outputs": [
        {
          "output_type": "execute_result",
          "data": {
            "text/plain": [
              "['Control.bam',\n",
              " 'H3k27ac.bam',\n",
              " 'H3k27me3.bam',\n",
              " 'H3k36me3.bam',\n",
              " 'H3k04me1.bam',\n",
              " 'H3k4me2.bam',\n",
              " 'H3k4me3.bam',\n",
              " 'H3k79me2.bam',\n",
              " 'H3k9ac.bam',\n",
              " 'H3k09me3.bam',\n",
              " 'H4k20me1.bam',\n",
              " 'H2az.bam']"
            ]
          },
          "metadata": {},
          "execution_count": 11
        }
      ]
    },
    {
      "cell_type": "code",
      "source": [
        "for i in range(len(paths)):\n",
        "  subprocess.call(f\"wget {paths[i]} -O {names[i]}\", shell = True)\n",
        "  print(f' {paths[i]} -O {names[i]}')"
      ],
      "metadata": {
        "colab": {
          "base_uri": "https://localhost:8080/"
        },
        "id": "V2ZjlPX3Bs2P",
        "outputId": "3c9531cf-fb83-454c-ddd6-748475a09ffe"
      },
      "execution_count": 20,
      "outputs": [
        {
          "output_type": "stream",
          "name": "stdout",
          "text": [
            " http://hgdownload.cse.ucsc.edu/goldenPath/hg19/encodeDCC/wgEncodeBroadHistone/wgEncodeBroadHistoneHelas3ControlStdAlnRep1.bam -O Control.bam\n",
            " http://hgdownload.cse.ucsc.edu/goldenPath/hg19/encodeDCC/wgEncodeBroadHistone/wgEncodeBroadHistoneHelas3H3k27acStdAlnRep1.bam -O H3k27ac.bam\n",
            " http://hgdownload.cse.ucsc.edu/goldenPath/hg19/encodeDCC/wgEncodeBroadHistone/wgEncodeBroadHistoneHelas3H3k27me3StdAlnRep1.bam -O H3k27me3.bam\n",
            " http://hgdownload.cse.ucsc.edu/goldenPath/hg19/encodeDCC/wgEncodeBroadHistone/wgEncodeBroadHistoneHelas3H3k36me3StdAlnRep1.bam -O H3k36me3.bam\n",
            " http://hgdownload.cse.ucsc.edu/goldenPath/hg19/encodeDCC/wgEncodeBroadHistone/wgEncodeBroadHistoneHelas3H3k04me1StdAlnRep1.bam -O H3k04me1.bam\n",
            " http://hgdownload.cse.ucsc.edu/goldenPath/hg19/encodeDCC/wgEncodeBroadHistone/wgEncodeBroadHistoneHelas3H3k4me2StdAlnRep1.bam -O H3k4me2.bam\n",
            " http://hgdownload.cse.ucsc.edu/goldenPath/hg19/encodeDCC/wgEncodeBroadHistone/wgEncodeBroadHistoneHelas3H3k4me3StdAlnRep1.bam -O H3k4me3.bam\n",
            " http://hgdownload.cse.ucsc.edu/goldenPath/hg19/encodeDCC/wgEncodeBroadHistone/wgEncodeBroadHistoneHelas3H3k79me2StdAlnRep1.bam -O H3k79me2.bam\n",
            " http://hgdownload.cse.ucsc.edu/goldenPath/hg19/encodeDCC/wgEncodeBroadHistone/wgEncodeBroadHistoneHelas3H3k9acStdAlnRep1.bam -O H3k9ac.bam\n",
            " http://hgdownload.cse.ucsc.edu/goldenPath/hg19/encodeDCC/wgEncodeBroadHistone/wgEncodeBroadHistoneHelas3H3k09me3AlnRep1.bam -O H3k09me3.bam\n",
            " http://hgdownload.cse.ucsc.edu/goldenPath/hg19/encodeDCC/wgEncodeBroadHistone/wgEncodeBroadHistoneHelas3H4k20me1StdAlnRep1.bam -O H4k20me1.bam\n",
            " http://hgdownload.cse.ucsc.edu/goldenPath/hg19/encodeDCC/wgEncodeBroadHistone/wgEncodeBroadHistoneHelas3H2azAlnRep1.bam -O H2az.bam\n"
          ]
        }
      ]
    },
    {
      "cell_type": "markdown",
      "source": [
        "* Вручную создаем текстовый файл cellmarkfiletable.txt, в котором указываем название типа клеток, разных гистоновых меток, а также соответствующие .bam файлы для эксперимента и контроля. Один и тот же контрольный файл .bam может быть использован для всех экспериментов.\n",
        "\n",
        "* Более подробно о содержании файла cellmarkfiletable.txt можно посмотреть в руководстве пользователя ChromHMM\n",
        "\n",
        "* Файл cellmarkfiletable.txt добавляем в github репозиторий для отчета"
      ],
      "metadata": {
        "id": "asjMJ26h79SY"
      }
    },
    {
      "cell_type": "markdown",
      "source": [
        "Запускаем ChromHMM с опцией BinarizeBam, чтобы конвертировать профили из ChIP-seq экспериментов (bam-файлы) в табличку из 0 и 1, т.е. чтобы сделать разбивку генома на условные интервалы (бины) длиной 200 п.о.\n",
        "Для 11 меток программа работает около 5 мин\n"
      ],
      "metadata": {
        "id": "WeoRL3rp728b"
      }
    },
    {
      "cell_type": "code",
      "source": [
        "!java -mx8000M -jar /content/ChromHMM/ChromHMM.jar BinarizeBam -b 200  /content/ChromHMM/CHROMSIZES/hg19.txt /content/ cellmarkfiletable.txt   binarizedData"
      ],
      "metadata": {
        "colab": {
          "base_uri": "https://localhost:8080/"
        },
        "id": "GcVBvuQZfzb8",
        "outputId": "db4d8c14-4545-4434-d425-a4a8686e5e19"
      },
      "execution_count": 22,
      "outputs": [
        {
          "output_type": "stream",
          "name": "stdout",
          "text": [
            "Writing to file binarizedData/HeLa-S3_chr1_binary.txt\n",
            "Writing to file binarizedData/HeLa-S3_chr2_binary.txt\n",
            "Writing to file binarizedData/HeLa-S3_chr3_binary.txt\n",
            "Writing to file binarizedData/HeLa-S3_chr4_binary.txt\n",
            "Writing to file binarizedData/HeLa-S3_chr5_binary.txt\n",
            "Writing to file binarizedData/HeLa-S3_chr6_binary.txt\n",
            "Writing to file binarizedData/HeLa-S3_chr7_binary.txt\n",
            "Writing to file binarizedData/HeLa-S3_chrX_binary.txt\n",
            "Writing to file binarizedData/HeLa-S3_chr8_binary.txt\n",
            "Writing to file binarizedData/HeLa-S3_chr9_binary.txt\n",
            "Writing to file binarizedData/HeLa-S3_chr10_binary.txt\n",
            "Writing to file binarizedData/HeLa-S3_chr11_binary.txt\n",
            "Writing to file binarizedData/HeLa-S3_chr12_binary.txt\n",
            "Writing to file binarizedData/HeLa-S3_chr13_binary.txt\n",
            "Writing to file binarizedData/HeLa-S3_chr14_binary.txt\n",
            "Writing to file binarizedData/HeLa-S3_chr15_binary.txt\n",
            "Writing to file binarizedData/HeLa-S3_chr16_binary.txt\n",
            "Writing to file binarizedData/HeLa-S3_chr17_binary.txt\n",
            "Writing to file binarizedData/HeLa-S3_chr18_binary.txt\n",
            "Writing to file binarizedData/HeLa-S3_chr20_binary.txt\n",
            "Writing to file binarizedData/HeLa-S3_chr19_binary.txt\n",
            "Writing to file binarizedData/HeLa-S3_chr22_binary.txt\n",
            "Writing to file binarizedData/HeLa-S3_chr21_binary.txt\n",
            "Writing to file binarizedData/HeLa-S3_chrM_binary.txt\n"
          ]
        }
      ]
    },
    {
      "cell_type": "markdown",
      "source": [
        "Запускаем ChromHMM с опцией LearnModel (см. руководство пользователя), которая автоматически определит параметры N разных эпигенетических типов с наиболее выраженными наборами гистоновых меток и присвоит каждому геномному интервалу определенный эпигенетический тип. Количество разных эпигенетических типов (или состояний) выбираете сами (например 10 штук).\n",
        "Не забудьте, что мы работаем с версией референсного генома человека hg19\n",
        "Для 11 меток программа работает около 10 минут\n"
      ],
      "metadata": {
        "id": "Yo11TtNG8SXU"
      }
    },
    {
      "cell_type": "code",
      "source": [
        "!java -mx8000M -jar /content/ChromHMM/ChromHMM.jar LearnModel binarizedData Output 10 hg19"
      ],
      "metadata": {
        "colab": {
          "base_uri": "https://localhost:8080/"
        },
        "id": "VnB45MccKFZC",
        "outputId": "ee52c5c7-4417-4f04-c337-3d43bfb286ad"
      },
      "execution_count": 23,
      "outputs": [
        {
          "output_type": "stream",
          "name": "stdout",
          "text": [
            "Writing to file Output/transitions_10.txt\n",
            "Writing to file Output/emissions_10.txt\n",
            "Writing to file Output/emissions_10.svg\n",
            "Writing to file Output/emissions_10.png\n",
            "Writing to file Output/transitions_10.png\n",
            "Writing to file Output/transitions_10.svg\n",
            "Writing to file Output/model_10.txt\n",
            " Iteration  Estimated Log Likelihood     Change    Total Time (secs)\n",
            "         1             -12121979.820          -                 14.6\n",
            "         2             -10894796.823 1227182.998                 29.1\n",
            "         3             -10588270.784 306526.039                 39.8\n",
            "         4             -10412549.887 175720.897                 50.3\n",
            "         5             -10336138.308  76411.579                 60.9\n",
            "         6             -10307878.910  28259.398                 71.3\n",
            "         7             -10297063.960  10814.950                 81.8\n",
            "         8             -10292249.994   4813.966                 92.3\n",
            "         9             -10289557.815   2692.178                102.8\n",
            "        10             -10287693.135   1864.680                113.5\n",
            "        11             -10286258.159   1434.977                124.0\n",
            "        12             -10285126.339   1131.820                134.5\n",
            "        13             -10284220.428    905.910                144.9\n",
            "        14             -10283454.843    765.586                155.4\n",
            "        15             -10282743.652    711.191                165.8\n",
            "        16             -10282025.657    717.995                181.0\n",
            "        17             -10281302.100    723.557                197.3\n",
            "        18             -10280525.873    776.228                208.3\n",
            "        19             -10279281.954   1243.918                219.2\n",
            "        20             -10276361.764   2920.191                230.5\n",
            "        21             -10269163.362   7198.401                241.5\n",
            "        22             -10257662.546  11500.817                252.4\n",
            "        23             -10249197.494   8465.051                263.3\n",
            "        24             -10244738.909   4458.585                274.2\n",
            "        25             -10240036.016   4702.893                288.5\n",
            "        26             -10222507.182  17528.834                303.1\n",
            "        27             -10190135.920  32371.262                314.5\n",
            "        28             -10176262.965  13872.954                325.6\n",
            "        29             -10172641.061   3621.904                336.6\n",
            "        30             -10171227.627   1413.434                347.6\n",
            "        31             -10170517.630    709.997                358.7\n",
            "        32             -10170111.390    406.241                369.7\n",
            "        33             -10169860.767    250.623                380.7\n",
            "        34             -10169697.303    163.464                391.9\n",
            "        35             -10169584.061    113.242                403.0\n",
            "        36             -10169500.435     83.626                414.2\n",
            "        37             -10169435.284     65.151                425.3\n",
            "        38             -10169382.310     52.974                436.5\n",
            "        39             -10169337.706     44.604                447.6\n",
            "        40             -10169299.026     38.679                458.7\n",
            "        41             -10169264.626     34.401                469.9\n",
            "        42             -10169233.346     31.280                481.2\n",
            "        43             -10169204.341     29.005                492.4\n",
            "        44             -10169176.966     27.375                503.6\n",
            "        45             -10169150.711     26.255                514.8\n",
            "        46             -10169125.155     25.556                526.0\n",
            "        47             -10169099.933     25.222                537.1\n",
            "        48             -10169074.719     25.214                548.3\n",
            "        49             -10169049.208     25.511                559.5\n",
            "        50             -10169023.107     26.101                570.8\n",
            "        51             -10168996.122     26.985                582.0\n",
            "        52             -10168967.949     28.173                593.4\n",
            "        53             -10168938.268     29.681                604.6\n",
            "        54             -10168906.731     31.537                615.8\n",
            "        55             -10168872.950     33.781                627.1\n",
            "        56             -10168836.490     36.460                638.3\n",
            "        57             -10168796.851     39.639                649.6\n",
            "        58             -10168753.450     43.401                660.9\n",
            "        59             -10168705.603     47.848                672.1\n",
            "        60             -10168652.489     53.114                683.6\n",
            "        61             -10168593.123     59.366                694.9\n",
            "        62             -10168526.297     66.826                706.3\n",
            "        63             -10168450.521     75.776                717.8\n",
            "        64             -10168363.931     86.590                729.5\n",
            "        65             -10168264.171     99.760                741.6\n",
            "        66             -10168148.229    115.943                753.2\n",
            "        67             -10168012.213    136.015                764.8\n",
            "        68             -10167851.061    161.153                776.5\n",
            "        69             -10167658.147    192.914                788.1\n",
            "        70             -10167424.819    233.328                799.8\n",
            "        71             -10167139.815    285.004                811.5\n",
            "        72             -10166788.377    351.437                823.2\n",
            "        73             -10166350.373    438.004                834.8\n",
            "        74             -10165795.798    554.575                846.5\n",
            "        75             -10165075.038    720.760                858.3\n",
            "        76             -10164102.725    972.313                869.9\n",
            "        77             -10162754.889   1347.835                881.5\n",
            "        78             -10160938.387   1816.502                896.2\n",
            "        79             -10158733.092   2205.295                907.8\n",
            "        80             -10156412.087   2321.005                919.4\n",
            "        81             -10154204.320   2207.767                930.9\n",
            "        82             -10152155.292   2049.028                942.5\n",
            "        83             -10150212.105   1943.187                954.5\n",
            "        84             -10148304.290   1907.815                966.1\n",
            "        85             -10146349.137   1955.153                977.6\n",
            "        86             -10144244.555   2104.582                989.2\n",
            "        87             -10141916.922   2327.632               1000.8\n",
            "        88             -10139443.812   2473.111               1012.3\n",
            "        89             -10137093.791   2350.021               1023.8\n",
            "        90             -10135067.879   2025.912               1035.4\n",
            "        91             -10133306.662   1761.217               1047.1\n",
            "        92             -10131489.714   1816.948               1058.7\n",
            "        93             -10128940.960   2548.754               1070.4\n",
            "        94             -10123977.204   4963.756               1082.0\n",
            "        95             -10111419.158  12558.046               1093.7\n",
            "        96             -10092517.215  18901.943               1105.2\n",
            "        97             -10082406.296  10110.919               1117.1\n",
            "        98             -10079250.805   3155.490               1128.6\n",
            "        99             -10078155.004   1095.801               1140.2\n",
            "       100             -10077640.313    514.691               1151.8\n",
            "       101             -10077347.033    293.280               1163.3\n",
            "       102             -10077162.510    184.522               1174.9\n",
            "       103             -10077038.999    123.511               1186.4\n",
            "       104             -10076952.376     86.623               1198.0\n",
            "       105             -10076889.262     63.114               1209.5\n",
            "       106             -10076841.770     47.492               1221.1\n",
            "       107             -10076805.003     36.767               1232.6\n",
            "       108             -10076775.784     29.219               1244.1\n",
            "       109             -10076751.985     23.800               1255.6\n",
            "       110             -10076732.148     19.837               1267.1\n",
            "       111             -10076715.263     16.885               1278.6\n",
            "       112             -10076700.625     14.638               1290.2\n",
            "       113             -10076687.737     12.888               1301.8\n",
            "       114             -10076676.242     11.495               1313.3\n",
            "       115             -10076665.883     10.359               1324.9\n",
            "       116             -10076656.468      9.415               1336.4\n",
            "       117             -10076647.851      8.617               1348.0\n",
            "       118             -10076639.918      7.932               1359.6\n",
            "       119             -10076632.580      7.338               1371.1\n",
            "       120             -10076625.764      6.817               1382.7\n",
            "       121             -10076619.408      6.356               1394.2\n",
            "       122             -10076613.463      5.945               1405.8\n",
            "       123             -10076607.887      5.576               1417.3\n",
            "       124             -10076602.644      5.243               1428.8\n",
            "       125             -10076597.703      4.941               1440.3\n",
            "       126             -10076593.037      4.666               1451.8\n",
            "       127             -10076588.623      4.414               1463.4\n",
            "       128             -10076584.440      4.183               1474.9\n",
            "       129             -10076580.470      3.970               1486.5\n",
            "       130             -10076576.693      3.777               1498.0\n",
            "       131             -10076573.102      3.591               1509.6\n",
            "       132             -10076569.679      3.423               1521.1\n",
            "       133             -10076566.412      3.267               1532.8\n",
            "       134             -10076563.291      3.121               1544.4\n",
            "       135             -10076560.306      2.985               1556.0\n",
            "       136             -10076557.447      2.859               1567.5\n",
            "       137             -10076554.707      2.740               1579.1\n",
            "       138             -10076552.077      2.630               1590.7\n",
            "       139             -10076549.551      2.526               1602.2\n",
            "       140             -10076547.123      2.429               1613.8\n",
            "       141             -10076544.786      2.337               1625.3\n",
            "       142             -10076542.534      2.251               1636.9\n",
            "       143             -10076540.364      2.170               1648.4\n",
            "       144             -10076538.270      2.094               1659.9\n",
            "       145             -10076536.248      2.022               1671.6\n",
            "       146             -10076534.294      1.954               1683.2\n",
            "       147             -10076532.403      1.890               1694.8\n",
            "       148             -10076530.574      1.829               1706.3\n",
            "       149             -10076528.802      1.772               1717.8\n",
            "       150             -10076527.084      1.718               1729.3\n",
            "       151             -10076525.418      1.666               1741.0\n",
            "       152             -10076523.801      1.617               1752.5\n",
            "       153             -10076522.230      1.571               1764.0\n",
            "       154             -10076520.703      1.527               1775.6\n",
            "       155             -10076519.219      1.484               1787.1\n",
            "       156             -10076517.775      1.445               1798.6\n",
            "       157             -10076516.368      1.406               1810.1\n",
            "       158             -10076514.998      1.370               1821.6\n",
            "       159             -10076513.662      1.336               1833.1\n",
            "       160             -10076512.360      1.303               1844.7\n",
            "       161             -10076511.089      1.271               1856.1\n",
            "       162             -10076509.848      1.241               1867.7\n",
            "       163             -10076508.636      1.212               1879.1\n",
            "       164             -10076507.451      1.184               1890.6\n",
            "       165             -10076506.293      1.158               1902.2\n",
            "       166             -10076505.160      1.133               1913.7\n",
            "       167             -10076504.052      1.109               1925.3\n",
            "       168             -10076502.966      1.085               1936.8\n",
            "       169             -10076501.903      1.063               1948.3\n",
            "       170             -10076500.861      1.042               1959.9\n",
            "       171             -10076499.840      1.021               1971.4\n",
            "       172             -10076498.838      1.001               1982.9\n",
            "       173             -10076497.856      0.983               1994.4\n",
            "       174             -10076496.891      0.964               2006.5\n",
            "       175             -10076495.945      0.947               2018.1\n",
            "       176             -10076495.015      0.930               2029.6\n",
            "       177             -10076494.101      0.914               2041.2\n",
            "       178             -10076493.203      0.898               2052.8\n",
            "       179             -10076492.320      0.883               2064.3\n",
            "       180             -10076491.452      0.868               2078.5\n",
            "       181             -10076490.597      0.854               2090.0\n",
            "       182             -10076489.756      0.841               2101.7\n",
            "       183             -10076488.929      0.828               2113.2\n",
            "       184             -10076488.114      0.815               2124.7\n",
            "       185             -10076487.311      0.803               2136.2\n",
            "       186             -10076486.520      0.791               2147.8\n",
            "       187             -10076485.740      0.780               2159.5\n",
            "       188             -10076484.972      0.769               2171.0\n",
            "       189             -10076484.214      0.758               2182.5\n",
            "       190             -10076483.466      0.748               2194.0\n",
            "       191             -10076482.729      0.738               2205.6\n",
            "       192             -10076482.001      0.728               2217.2\n",
            "       193             -10076481.282      0.719               2228.9\n",
            "       194             -10076480.573      0.709               2240.4\n",
            "       195             -10076479.872      0.701               2252.1\n",
            "       196             -10076479.180      0.692               2263.7\n",
            "       197             -10076478.496      0.684               2275.2\n",
            "       198             -10076477.821      0.676               2286.9\n",
            "       199             -10076477.153      0.668               2298.5\n",
            "       200             -10076476.492      0.660               2310.0\n",
            "Writing to file Output/HeLa-S3_10_segments.bed\n",
            "Writing to file Output/HeLa-S3_10_dense.bed\n",
            "Writing to file Output/HeLa-S3_10_expanded.bed\n",
            "Writing to file Output/HeLa-S3_10_overlap.txt\n",
            "Writing to file Output/HeLa-S3_10_overlap.png\n",
            "Writing to file Output/HeLa-S3_10_overlap.svg\n",
            "Writing to file Output/HeLa-S3_10_RefSeqTSS_neighborhood.txt\n",
            "Writing to file Output/HeLa-S3_10_RefSeqTSS_neighborhood.png\n",
            "Writing to file Output/HeLa-S3_10_RefSeqTSS_neighborhood.svg\n",
            "Writing to file Output/HeLa-S3_10_RefSeqTES_neighborhood.txt\n",
            "Writing to file Output/HeLa-S3_10_RefSeqTES_neighborhood.png\n",
            "Writing to file Output/HeLa-S3_10_RefSeqTES_neighborhood.svg\n",
            "Warning could not automatically open in a browser Output/webpage_10.html\n"
          ]
        }
      ]
    },
    {
      "cell_type": "code",
      "source": [
        "! tar -cvf output.tar.gz Output"
      ],
      "metadata": {
        "colab": {
          "base_uri": "https://localhost:8080/"
        },
        "id": "U0p7dRpWVgsG",
        "outputId": "cd35d52b-2c6c-4bc1-ea5c-3f87960d10f5"
      },
      "execution_count": 33,
      "outputs": [
        {
          "output_type": "stream",
          "name": "stdout",
          "text": [
            "Output/\n",
            "Output/HeLa-S3_10_RefSeqTSS_neighborhood.png\n",
            "Output/emissions_10.txt\n",
            "Output/HeLa-S3_10_segments.bed\n",
            "Output/HeLa-S3_10_RefSeqTSS_neighborhood.svg\n",
            "Output/transitions_10.png\n",
            "Output/HeLa-S3_10_overlap.txt\n",
            "Output/emissions_10.png\n",
            "Output/HeLa-S3_10_RefSeqTES_neighborhood.svg\n",
            "Output/transitions_10.svg\n",
            "Output/model_10.txt\n",
            "Output/HeLa-S3_10_overlap.svg\n",
            "Output/webpage_10.html\n",
            "Output/HeLa-S3_10_RefSeqTES_neighborhood.txt\n",
            "Output/emissions_10.svg\n",
            "Output/HeLa-S3_10_dense.bed\n",
            "Output/HeLa-S3_10_RefSeqTES_neighborhood.png\n",
            "Output/HeLa-S3_10_overlap.png\n",
            "Output/HeLa-S3_10_RefSeqTSS_neighborhood.txt\n",
            "Output/HeLa-S3_10_expanded.bed\n",
            "Output/transitions_10.txt\n"
          ]
        }
      ]
    },
    {
      "cell_type": "code",
      "source": [
        ""
      ],
      "metadata": {
        "id": "vBd6-0tIZEA9"
      },
      "execution_count": null,
      "outputs": []
    }
  ]
}